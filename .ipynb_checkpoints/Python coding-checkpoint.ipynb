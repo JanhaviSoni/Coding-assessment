{
 "cells": [
  {
   "cell_type": "markdown",
   "metadata": {},
   "source": [
    "### Find the approximate change in the value of 1/x when x changes from 2 to 100"
   ]
  },
  {
   "cell_type": "code",
   "execution_count": 1,
   "metadata": {},
   "outputs": [
    {
     "data": {
      "text/plain": [
       "-0.24"
      ]
     },
     "execution_count": 1,
     "metadata": {},
     "output_type": "execute_result"
    }
   ],
   "source": [
    "value_of_func_before = 1/(2**2)\n",
    "value_of_func_after = 1/(10**2)\n",
    "\n",
    "change_in_value = value_of_func_after - value_of_func_before\n",
    "change_in_value"
   ]
  },
  {
   "cell_type": "markdown",
   "metadata": {},
   "source": [
    "**Ans: The change is -0.24**"
   ]
  },
  {
   "cell_type": "markdown",
   "metadata": {},
   "source": [
    "### Rishi has a total of 590 as currency notes in the denominations of 50,  20 and  10. The ratio of the number of 50 notes and 20 notes is 3:5. If she has a total of 25 notes, how many notes of each denomination she has?"
   ]
  },
  {
   "cell_type": "markdown",
   "metadata": {},
   "source": [
    "Let us consider that there are x notes of 50, y notes of 20 and z notes of 10. \n",
    "\n",
    "Total value of currency = 590 \n",
    "So, \n",
    "50x + 20y + 10z = 590  \n",
    "Let ratio of number of 50 notes to 20 notes be = $\\frac x y = \\frac 3 5$  \n",
    "Total number of notes = x+y+z = 25  \n",
    "  \n",
    "  The required equations are :  \n",
    " 1. 50x + 20y + 10z = 590  \n",
    " 2. $\\frac x y = \\frac 3 5$  \n",
    " 3. x+y+z = 25  \n",
    "  \n",
    "  From the 2nd equation  \n",
    " 4. x = $\\frac {3y} 5 $  \n",
    "   \n",
    "   Putting 4 equation in 3  \n",
    "   \n",
    "    $\\frac {3y} 5$ + y + z = 25  \n",
    "     $\\frac {8y} 5$ + z = 25  \n",
    " 5. z = 25 -  $\\frac {8y} 5$  \n",
    "   \n",
    "   putting 5,4 equation in 1   \n",
    "   $50\\times \\frac {3y} 5 + 20 \\times y + 10 \\times (25-\\frac {8y} 5) = 590  $  \n",
    "   30y + 20y + 250 - 16y = 590  \n",
    "   50y - 16y = 340  \n",
    "   34y = 340  \n",
    "   y = 10  \n",
    "     \n",
    "   So, x = 3y/5 = 6  \n",
    "       z = 25 - 8y/5 = 25 - 16 = 9  \n",
    "   \n",
    "   "
   ]
  },
  {
   "cell_type": "code",
   "execution_count": 2,
   "metadata": {},
   "outputs": [
    {
     "name": "stderr",
     "output_type": "stream",
     "text": [
      "C:\\Users\\Dell\\anaconda3\\lib\\site-packages\\sympy\\core\\relational.py:486: SymPyDeprecationWarning: \n",
      "\n",
      "Eq(expr) with rhs default to 0 has been deprecated since SymPy 1.5.\n",
      "Use Eq(expr, 0) instead. See\n",
      "https://github.com/sympy/sympy/issues/16587 for more info.\n",
      "\n",
      "  SymPyDeprecationWarning(\n"
     ]
    },
    {
     "data": {
      "text/plain": [
       "{x: 6.00000000000000, y: 10.0000000000000, z: 9.00000000000000}"
      ]
     },
     "execution_count": 2,
     "metadata": {},
     "output_type": "execute_result"
    }
   ],
   "source": [
    "from sympy import symbols, Eq, solve\n",
    "x, y, z = symbols('x y z')\n",
    "\n",
    "eq1 = Eq(50*x + 20*y + 10*z - 590 )\n",
    "eq2 = Eq(x/y - 3/5)\n",
    "eq3 = Eq(x+y+z - 25)\n",
    "sol = solve((eq1, eq2, eq3),(x, y,z))\n",
    "sol"
   ]
  },
  {
   "cell_type": "markdown",
   "metadata": {},
   "source": [
    "**Ans: By solving the above equations we got that there are 6 notes of 50 denomination, 10 notes of 20 denomination and 9 notes of 10 denomination**"
   ]
  },
  {
   "cell_type": "markdown",
   "metadata": {},
   "source": [
    "### The organizers of an essay competition decide that a winner in the competition gets a prize of 100 and a participant who does not win gets a prize of 25. The total prize money distributed is 3,000. Find the number of winners, if the total number of participants is 63."
   ]
  },
  {
   "cell_type": "markdown",
   "metadata": {},
   "source": [
    "Prize money given to winner = 100  \n",
    "Prize money given to person who does not win = 25  \n",
    "Total money distributed = 3000  \n",
    "Total number of participants = 63  \n",
    "\n",
    "Let there be x participants who win and y participants who do not win  \n",
    "\n",
    "The equations are as follows :   \n",
    "1. x+y = 63  \n",
    "2. $x\\times100 + y\\times25 = 3000$  \n",
    "\n",
    "From equation 1 we get  \n",
    "3. y = 63 - x  \n",
    "\n",
    "We put 3 in 2 equation  \n",
    "\n",
    "4. x*100 + (63-x)*25 = 3000  \n",
    "  \n",
    "  $100x + 63\\times25 - 25x = 3000  $\n",
    "  75x = 3000 - 1575  \n",
    "  $x = \\frac {1425} {75} = 19$\n",
    "  \n",
    "  y = 44"
   ]
  },
  {
   "cell_type": "code",
   "execution_count": 3,
   "metadata": {},
   "outputs": [
    {
     "data": {
      "text/plain": [
       "{x: 19, y: 44}"
      ]
     },
     "execution_count": 3,
     "metadata": {},
     "output_type": "execute_result"
    }
   ],
   "source": [
    "x, y = symbols('x y')\n",
    "\n",
    "eq1 = Eq(x + y - 63)\n",
    "eq2 = Eq(100*x + 25*y - 3000)\n",
    "sol = solve((eq1, eq2),(x, y))\n",
    "sol"
   ]
  },
  {
   "cell_type": "markdown",
   "metadata": {},
   "source": [
    "**Ans: There are 19 winners**"
   ]
  },
  {
   "cell_type": "markdown",
   "metadata": {},
   "source": [
    "### The sum of three consecutive multiples of 11 is 363. Find these multiples."
   ]
  },
  {
   "cell_type": "code",
   "execution_count": 4,
   "metadata": {},
   "outputs": [
    {
     "name": "stdout",
     "output_type": "stream",
     "text": [
      "110 121 132\n"
     ]
    }
   ],
   "source": [
    "multiples = []\n",
    "x = 11\n",
    "index = 1\n",
    "\n",
    "while(x*index<=363):\n",
    "    multiples.append(x*index)\n",
    "    index+=1;\n",
    "    \n",
    "for i in range(len(multiples)-2):\n",
    "    a = multiples[i]\n",
    "    b = multiples[i+1]\n",
    "    c = multiples[i+2]\n",
    "    \n",
    "    if(a+b+c==363):\n",
    "        print(a,b,c)\n",
    "        break"
   ]
  },
  {
   "cell_type": "markdown",
   "metadata": {},
   "source": [
    "**Ans : The consecutive multiples of 11 are 110, 121, 132**"
   ]
  },
  {
   "cell_type": "markdown",
   "metadata": {},
   "source": [
    "### The digits of a two-digit number differ by 3. If the digits are interchanged, and the resulting number is added to the original number, we get 143. What can be the original number?"
   ]
  },
  {
   "cell_type": "code",
   "execution_count": 5,
   "metadata": {},
   "outputs": [
    {
     "name": "stdout",
     "output_type": "stream",
     "text": [
      "[58, 85]\n"
     ]
    }
   ],
   "source": [
    "ans = []\n",
    "for number in range(10,100):\n",
    "    ones_place = int(number%10)\n",
    "    tens_place = int(number/10)\n",
    "    \n",
    "    if(abs(ones_place-tens_place)==3):\n",
    "        new_number = int(ones_place*10+tens_place + number)\n",
    "        if(new_number==143):\n",
    "            ans.append(number)\n",
    "print(ans)"
   ]
  },
  {
   "cell_type": "markdown",
   "metadata": {},
   "source": [
    "**Ans: The numbers can be 85 and 58**"
   ]
  },
  {
   "cell_type": "markdown",
   "metadata": {},
   "source": [
    "### Solve 5x - 2(2x-7) = 2(3x-1)+7/2"
   ]
  },
  {
   "cell_type": "code",
   "execution_count": 6,
   "metadata": {},
   "outputs": [
    {
     "name": "stdout",
     "output_type": "stream",
     "text": [
      "3.9000\n"
     ]
    }
   ],
   "source": [
    "x = symbols('x')\n",
    "\n",
    "eq1 = Eq(5*x-2*(2*x - 7) - 2*(3*x-1)+7/2)\n",
    "\n",
    "solution = solve(eq1,(x))\n",
    "print(round(solution[0],4))"
   ]
  },
  {
   "cell_type": "markdown",
   "metadata": {},
   "source": [
    "**Ans : x = 3.90**"
   ]
  },
  {
   "cell_type": "markdown",
   "metadata": {},
   "source": [
    "### Find the area of the region included between the parabola y2 = x and the line x + y = 2 and the X-axis.\n"
   ]
  },
  {
   "cell_type": "code",
   "execution_count": 7,
   "metadata": {},
   "outputs": [
    {
     "name": "stderr",
     "output_type": "stream",
     "text": [
      "<ipython-input-7-ee2f7ca192b0>:6: RuntimeWarning: invalid value encountered in sqrt\n",
      "  y = np.sqrt(x)\n"
     ]
    },
    {
     "data": {
      "text/plain": [
       "[<matplotlib.lines.Line2D at 0x18bff7bce50>]"
      ]
     },
     "execution_count": 7,
     "metadata": {},
     "output_type": "execute_result"
    },
    {
     "data": {
      "image/png": "[encoded data removed]",
      "text/plain": [
       "<Figure size 432x288 with 1 Axes>"
      ]
     },
     "metadata": {
      "needs_background": "light"
     },
     "output_type": "display_data"
    }
   ],
   "source": [
    "import matplotlib.pyplot as plt\n",
    "import numpy as np\n",
    "\n",
    "x = np.arange(-10,10)\n",
    "\n",
    "y = np.sqrt(x)\n",
    "z = x*0\n",
    "w = 2-y\n",
    "plt.plot(x,y,color = 'blue')\n",
    "plt.plot(x,z,color = 'yellow')\n",
    "plt.plot(w,y,color = 'red')"
   ]
  },
  {
   "cell_type": "code",
   "execution_count": 8,
   "metadata": {},
   "outputs": [
    {
     "name": "stderr",
     "output_type": "stream",
     "text": [
      "C:\\Users\\Dell\\anaconda3\\lib\\site-packages\\sympy\\core\\relational.py:486: SymPyDeprecationWarning: \n",
      "\n",
      "Eq(expr) with rhs default to 0 has been deprecated since SymPy 1.5.\n",
      "Use Eq(expr, 0) instead. See\n",
      "https://github.com/sympy/sympy/issues/16587 for more info.\n",
      "\n",
      "  SymPyDeprecationWarning(\n"
     ]
    },
    {
     "data": {
      "text/plain": [
       "[(1, 1), (4, -2)]"
      ]
     },
     "execution_count": 8,
     "metadata": {},
     "output_type": "execute_result"
    }
   ],
   "source": [
    "x,y = symbols('x y')\n",
    "\n",
    "eq1 = Eq(y**2 - x)\n",
    "eq2 = Eq(x+y-2)\n",
    "sol = solve((eq1, eq2), (x,y))\n",
    "sol"
   ]
  },
  {
   "cell_type": "markdown",
   "metadata": {},
   "source": [
    "Parabola meets x axis at (0,0) and x+y = 2 meets x axis at x = 2 and point of intersection of parabola and line is (1,1) above x- axis  \n",
    "\n",
    "Area bounded by parabola , line and x-axis consists of two areas one bounded by parabola and other triangle made by line ans x-aixs\n",
    "\n",
    "Putting integration from x = 0 to x = 1 and finding area of triangle\n",
    "\n",
    "$y^2 = x$  \n",
    "x + y = 2  \n",
    "y = 2 - x  \n",
    "\n",
    "$(2 - x)^2 - x = 0 $"
   ]
  },
  {
   "cell_type": "code",
   "execution_count": 9,
   "metadata": {},
   "outputs": [],
   "source": [
    "import sympy as sy\n",
    "\n",
    "def f(x):\n",
    "    return x**(1/2)"
   ]
  },
  {
   "cell_type": "code",
   "execution_count": 10,
   "metadata": {},
   "outputs": [
    {
     "data": {
      "text/latex": [
       "$\\displaystyle 0.666666666666667$"
      ],
      "text/plain": [
       "0.666666666666667"
      ]
     },
     "execution_count": 10,
     "metadata": {},
     "output_type": "execute_result"
    }
   ],
   "source": [
    "x = sy.Symbol('x')\n",
    "Curve_area = sy.integrate(f(x),(x,0,1))\n",
    "Curve_area"
   ]
  },
  {
   "cell_type": "code",
   "execution_count": 11,
   "metadata": {},
   "outputs": [
    {
     "name": "stdout",
     "output_type": "stream",
     "text": [
      "0.5\n"
     ]
    }
   ],
   "source": [
    "Area_of_triangle = 1/2 * (2-1) * 1\n",
    "print(Area_of_triangle)"
   ]
  },
  {
   "cell_type": "code",
   "execution_count": 12,
   "metadata": {},
   "outputs": [
    {
     "data": {
      "text/latex": [
       "$\\displaystyle 1.16666666666667$"
      ],
      "text/plain": [
       "1.16666666666667"
      ]
     },
     "execution_count": 12,
     "metadata": {},
     "output_type": "execute_result"
    }
   ],
   "source": [
    "#total area \n",
    "Total_area = Area_of_triangle+Curve_area\n",
    "Total_area"
   ]
  },
  {
   "cell_type": "markdown",
   "metadata": {},
   "source": [
    "$y^2 = x$  \n",
    "x+y = 2  \n",
    "x = 2-y  \n",
    "$y^2 - y + 2$"
   ]
  },
  {
   "cell_type": "code",
   "execution_count": 13,
   "metadata": {},
   "outputs": [
    {
     "data": {
      "text/latex": [
       "$\\displaystyle \\frac{9}{2}$"
      ],
      "text/plain": [
       "9/2"
      ]
     },
     "execution_count": 13,
     "metadata": {},
     "output_type": "execute_result"
    }
   ],
   "source": [
    "# finding area of curve bounded by line and parabola \n",
    "def g(y):\n",
    "    return y**2 + y - 2\n",
    "y = sy.Symbol('y')\n",
    "Area_between_line_parabola = sy.integrate(g(y),(y,1,-2))\n",
    "Area_between_line_parabola"
   ]
  },
  {
   "cell_type": "code",
   "execution_count": 14,
   "metadata": {},
   "outputs": [
    {
     "data": {
      "text/latex": [
       "$\\displaystyle 3.83333333333333$"
      ],
      "text/plain": [
       "3.83333333333333"
      ]
     },
     "execution_count": 14,
     "metadata": {},
     "output_type": "execute_result"
    }
   ],
   "source": [
    "# area of other part bounded by three curves\n",
    "Area_of_other_part_bounded_by_three_curves = Area_between_line_parabola - Curve_area\n",
    "Area_of_other_part_bounded_by_three_curves"
   ]
  },
  {
   "cell_type": "markdown",
   "metadata": {},
   "source": [
    "### A manufacturer produces three models of toys in the form of bikes say X,Y and Z. Model X takes as 10 man-hour to make per unit, Model Y takes 5 man-hour per unit and model Z takes 4 man-hour per unit. There are a total 212 man-hour available per week. Handling and marketing costs are <20, <30 and <40 per unit for models X,Y and Z respectively. The total funds available for these purposes are <920 per week. Profits per unit for models X,Y and Z are <40, <10and <70 respectively, but at the end of the week, company get a profit of <810. Solve the system of equations by matrix method."
   ]
  },
  {
   "cell_type": "markdown",
   "metadata": {},
   "source": [
    "Time taken by X = 10  \n",
    "Time taken by Y = 5  \n",
    "Time taken by Z = 4  \n",
    "Total man hour per week  = 212  \n",
    "\n",
    "Costs for X = <20  \n",
    "Costs for Y = <30  \n",
    "Costs for Z = <40  \n",
    "Funds per week = <920  \n",
    "\n",
    "Profit for X = <40  \n",
    "Profit for Y = <10  \n",
    "Profit for Z = <70  \n",
    "Total Profit = <810\n",
    "\n",
    "Let x,y,z be total units of Model X, Y, Z respectively.  \n",
    "\n",
    "Required equations :  \n",
    "\n",
    "10x + 5y + 4z $\\leq$ 212  \n",
    "20x + 50y + 40z < 920  \n",
    "40x + 10y + 70z < 810  \n",
    "\n",
    "\\begin{equation*}\n",
    "A = \n",
    "\\begin{bmatrix}\n",
    "10 & 5 & 4\\\\\n",
    "20 & 50 & 40\\\\\n",
    "40 & 10 & 70\n",
    "\\end{bmatrix}\n",
    "\\end{equation*}\n",
    "\n",
    "\\begin{equation*}\n",
    "B = \n",
    "\\begin{bmatrix}\n",
    "212\\\\\n",
    "920\\\\\n",
    "810\n",
    "\\end{bmatrix}\n",
    "\\end{equation*}\n",
    "\n",
    "AX = B  \n",
    "X = A<sup>-1</sup>B\n",
    "\n"
   ]
  },
  {
   "cell_type": "code",
   "execution_count": 15,
   "metadata": {},
   "outputs": [
    {
     "data": {
      "text/plain": [
       "matrix([[15.        ],\n",
       "        [11.29032258],\n",
       "        [ 1.38709677]])"
      ]
     },
     "execution_count": 15,
     "metadata": {},
     "output_type": "execute_result"
    }
   ],
   "source": [
    "import numpy as np\n",
    "\n",
    "A = np.matrix([[10,5,4],[20,50,40],[40,10,70]])\n",
    "B = np.matrix([[212],[920],[810]])\n",
    "\n",
    "#inverse of A\n",
    "\n",
    "A_inverse = np.linalg.inv(A)\n",
    "\n",
    "# solving for X\n",
    "X = A_inverse*B\n",
    "X"
   ]
  },
  {
   "cell_type": "markdown",
   "metadata": {},
   "source": [
    "9. ${\\tan}^{-1} \\{ \\frac{\\cos x} { 1-\\sin x } \\} = \\frac{\\pi}{ 4 }+ \\frac{x}{ 2}$  \n",
    "$x \\in (\\frac {-\\pi}{2}, \\frac{\\pi}{2} )$"
   ]
  },
  {
   "cell_type": "markdown",
   "metadata": {},
   "source": [
    "$ \\cos 2x = \\cos^2 x- \\sin^2 x $  \n",
    "$ \\sin 2x = 2\\sin x \\cos x$  \n",
    "$ \\cos^2 x + \\sin^2 x = 1 $  \n",
    "${\\tan}^{-1}  \\{ \\frac {\\cos^2 \\frac x 2-\\sin^2 \\frac x 2}{1 - 2 \\sin \\frac x 2 \\cos \\frac x 2}  \\}$  \n",
    "${\\tan}^{-1}  \\{ \\frac {\\cos^2 \\frac x 2-\\sin^2 \\frac x 2}{\\cos^2 \\frac x 2 + \\sin^2 \\frac x 2 - 2 \\sin \\frac x 2 \\cos \\frac x 2}  \\}$  \n",
    "${\\tan}^{-1}  \\{ \\frac { (\\cos \\frac x 2-\\sin \\frac x 2 ) (\\cos \\frac x 2+ \\sin \\frac x 2)}{(\\cos \\frac x 2-\\sin \\frac x 2 ) (\\cos \\frac  2-\\sin \\frac x 2 )} \\}$   \n",
    "${\\tan}^{-1} \\{ \\frac { (\\cos \\frac x 2 + \\sin \\frac x 2 )} { (\\cos \\frac x 2-\\sin \\frac x 2 ) } \\}$  \n",
    "${\\tan}^{-1} \\{ \\frac { 1+\\tan \\frac x 2}{1-\\tan \\frac x 2} \\} $\n",
    "\n",
    "$ \\tan \\frac \\pi 4 = 1 $  \n",
    "\n",
    "${\\tan}^{-1} \\{ \\frac { \\tan \\frac \\pi 4+\\tan \\frac x 2}{1-\\tan \\frac \\pi 4\\tan \\frac x 2} \\} $  \n",
    "${\\tan}^{-1} \\{ \\tan \\frac \\pi 4+\\tan \\frac x 2 \\} $  \n",
    "$\\frac \\pi 4 + \\frac x 2$"
   ]
  },
  {
   "cell_type": "code",
   "execution_count": 16,
   "metadata": {},
   "outputs": [
    {
     "data": {
      "text/plain": [
       "[<matplotlib.lines.Line2D at 0x18bff918d90>]"
      ]
     },
     "execution_count": 16,
     "metadata": {},
     "output_type": "execute_result"
    },
    {
     "data": {
      "image/png": "[encoded data removed]",
      "text/plain": [
       "<Figure size 432x288 with 1 Axes>"
      ]
     },
     "metadata": {
      "needs_background": "light"
     },
     "output_type": "display_data"
    }
   ],
   "source": [
    "# plotting graph for LHS side\n",
    "import math\n",
    "def f(x):\n",
    "    return np.arctan(math.cos(x)/(1-math.sin(x)))\n",
    "\n",
    "x = np.arange(-np.pi/2,np.pi/2,0.1)\n",
    "\n",
    "y = []\n",
    "\n",
    "for i in range(0,len(x)):\n",
    "    y.append(f(x[i]))\n",
    "              \n",
    "plt.plot(x,y,color = 'blue')\n"
   ]
  },
  {
   "cell_type": "code",
   "execution_count": 17,
   "metadata": {},
   "outputs": [
    {
     "data": {
      "text/plain": [
       "[<matplotlib.lines.Line2D at 0x18bff988040>]"
      ]
     },
     "execution_count": 17,
     "metadata": {},
     "output_type": "execute_result"
    },
    {
     "data": {
      "image/png": "[encoded data removed]",
      "text/plain": [
       "<Figure size 432x288 with 1 Axes>"
      ]
     },
     "metadata": {
      "needs_background": "light"
     },
     "output_type": "display_data"
    }
   ],
   "source": [
    "# plotting graph for RHS side\n",
    "def g(x):\n",
    "    return x/2+np.pi/4\n",
    "\n",
    "z = [] \n",
    "\n",
    "for i in range(0,len(x)):\n",
    "    z.append(g(x[i]))\n",
    "    \n",
    "plt.plot(x,y,color = 'blue')"
   ]
  },
  {
   "cell_type": "markdown",
   "metadata": {},
   "source": [
    "**By seeing both the graphs we find that LHS == RHS as both graphs are same**"
   ]
  }
 ],
 "metadata": {
  "kernelspec": {
   "display_name": "Python 3",
   "language": "python",
   "name": "python3"
  },
  "language_info": {
   "codemirror_mode": {
    "name": "ipython",
    "version": 3
   },
   "file_extension": ".py",
   "mimetype": "text/x-python",
   "name": "python",
   "nbconvert_exporter": "python",
   "pygments_lexer": "ipython3",
   "version": "3.8.3"
  }
 },
 "nbformat": 4,
 "nbformat_minor": 4
}
